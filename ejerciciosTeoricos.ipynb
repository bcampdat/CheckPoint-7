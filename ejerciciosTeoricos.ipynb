{
 "cells": [
  {
   "cell_type": "markdown",
   "metadata": {},
   "source": [
    "                                Preguntas Teoricas"
   ]
  },
  {
   "cell_type": "markdown",
   "metadata": {},
   "source": [
    "Realiza una documentación sobre lo conceptos que te proporcionare, recuerda debes ser lo más claro y comprensible posible, estas creando un material que lo visualizarán personas que recién inician en el mundo del desarrollo por lo tanto debes también sustentarlo con ejemplos, porque se utiliza, para que se utiliza, sintaxis, etc… \n"
   ]
  },
  {
   "cell_type": "markdown",
   "metadata": {},
   "source": [
    "1. ¿Qué diferencia a Javascript de cualquier otro lenguaje de programación? [▶ ](./Ejercicios/1.ipynb)"
   ]
  },
  {
   "cell_type": "markdown",
   "metadata": {},
   "source": [
    "2. ¿Cuáles son algunos tipos de datos JS? [▶ ](./Ejercicios/2.ipynb)"
   ]
  },
  {
   "cell_type": "markdown",
   "metadata": {},
   "source": [
    "3. ¿Cuáles son las tres funciones de String en JS? [▶ ](./Ejercicios/3.ipynb) "
   ]
  },
  {
   "cell_type": "markdown",
   "metadata": {},
   "source": [
    "4. ¿Qué es un condicional? [▶ ](./Ejercicios/4.ipynb)"
   ]
  },
  {
   "cell_type": "markdown",
   "metadata": {},
   "source": [
    "5. ¿Qué es un operador ternario? [▶ ](./Ejercicios/5.ipynb) "
   ]
  },
  {
   "cell_type": "markdown",
   "metadata": {},
   "source": [
    "6. ¿Cuál es la diferencia entre una declaración de función y una expresión de función? [▶ ](./Ejercicios/6.ipynb)"
   ]
  },
  {
   "cell_type": "markdown",
   "metadata": {},
   "source": [
    "7. ¿Qué es la palabra clave \"this\" en JS? [▶ ](./Ejercicios/7.ipynb)"
   ]
  },
  {
   "cell_type": "markdown",
   "metadata": {},
   "source": [
    "* ***Curso completo*** : \n",
    "[\"HOLA MUNDO\"](https://youtu.be/QoC4RxNIs5M?t=4)\n",
    "\n",
    " \n",
    "* ***Documentación oficial:***    [JavaScript](https://developer.mozilla.org/es/docs/Web/JavaScript/Guide/Introduction)\n",
    "\n",
    "* [Teoría](https://www.w3schools.com/js/default.asp)"
   ]
  }
 ],
 "metadata": {
  "language_info": {
   "name": "python"
  }
 },
 "nbformat": 4,
 "nbformat_minor": 2
}
